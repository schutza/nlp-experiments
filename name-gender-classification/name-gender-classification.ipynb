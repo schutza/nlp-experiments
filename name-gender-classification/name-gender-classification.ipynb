{
 "cells": [
  {
   "cell_type": "code",
   "execution_count": 1,
   "metadata": {},
   "outputs": [],
   "source": [
    "from nltk.classify import apply_features\n",
    "from nltk.corpus import names\n",
    "import nltk\n",
    "import random"
   ]
  },
  {
   "cell_type": "code",
   "execution_count": 2,
   "metadata": {},
   "outputs": [],
   "source": [
    "class NameGenderFeatureExtractor(object):\n",
    "    def number_of_vowels(self, word):\n",
    "        return sum(letter in 'aeiou' for letter in word.lower())\n",
    "\n",
    "    def features(self, word):\n",
    "        return {\n",
    "            'suffix_1': word[-1:],\n",
    "            'suffix_2': word[-2:],\n",
    "            # 'name_length': len(word),\n",
    "            # 'first_letter': word[0],\n",
    "            # 'number_of_vowels': self.number_of_vowels(word),\n",
    "            # 'ratio_vowels': self.number_of_vowels(word) / len(word)\n",
    "        }"
   ]
  },
  {
   "cell_type": "code",
   "execution_count": 4,
   "metadata": {},
   "outputs": [],
   "source": [
    "class NameGenderData(object):\n",
    "    def __init__(self, feature_extractor):\n",
    "        self._feature_extractor = feature_extractor\n",
    "        self._labeled_names = self._label_names()\n",
    "\n",
    "    def _label_names(self):\n",
    "        from nltk.corpus import names\n",
    "        labeled_names = ([(name, 'male') for name in names.words('male.txt')] \n",
    "            + [(name, 'female') for name in names.words('female.txt')])\n",
    "        import random\n",
    "        random.shuffle(labeled_names)\n",
    "        print('labeled_names: {} elements'.format(len(labeled_names)))\n",
    "\n",
    "        return labeled_names\n",
    "\n",
    "    def split_train_devtest_test_set(self):\n",
    "        train_names = self._labeled_names[1500:]\n",
    "        devtest_names = random.sample(self._labeled_names[500:1500], 100)\n",
    "        test_names = self._labeled_names[:500]\n",
    "\n",
    "        train_set = [(self._feature_extractor.features(n), gender) for (n, gender) in train_names]\n",
    "        devtest_set = [(self._feature_extractor.features(n), gender) for (n, gender) in devtest_names]\n",
    "        test_set = [(self._feature_extractor.features(n), gender) for (n, gender) in test_names]\n",
    "\n",
    "        return {\n",
    "            'train': (train_names, train_set),\n",
    "            'devtest': (devtest_names, devtest_set),\n",
    "            'test': (test_names, test_set)\n",
    "        }\n",
    "\n",
    "    def evaluate(self, classifier, devtest_set):\n",
    "        accuracy = nltk.classify.accuracy(classifier, devtest_set)\n",
    "        print('Accuracy: {}'.format(accuracy))\n",
    "        classifier.show_most_informative_features(10)\n",
    "\n",
    "    def error_analysis(self, classifier, devtest_set):\n",
    "        errors = []\n",
    "        for (name, tag) in devtest_set:\n",
    "            guess = classifier.classify(self._feature_extractor.features(name))\n",
    "            if guess != tag:\n",
    "                errors.append( (tag, guess, name) )\n",
    "        for (tag, guess, name) in sorted(errors):\n",
    "            print('correct={:<8} guess={:<8s} name={:<30}'.format(tag, guess, name))\n"
   ]
  },
  {
   "cell_type": "code",
   "execution_count": 5,
   "metadata": {},
   "outputs": [
    {
     "name": "stdout",
     "output_type": "stream",
     "text": [
      "labeled_names: 7944 elements\n",
      "Classification for [Neo]: male\n",
      "Classification for [Trinity]: female\n",
      "Accuracy: 0.8\n",
      "Most Informative Features\n",
      "                suffix_2 = u'na'          female : male   =     92.2 : 1.0\n",
      "                suffix_2 = u'la'          female : male   =     64.8 : 1.0\n",
      "                suffix_2 = u'ia'          female : male   =     48.8 : 1.0\n",
      "                suffix_1 = u'k'             male : female =     42.1 : 1.0\n",
      "                suffix_1 = u'a'           female : male   =     33.6 : 1.0\n",
      "                suffix_2 = u'sa'          female : male   =     32.9 : 1.0\n",
      "                suffix_2 = u'us'            male : female =     28.7 : 1.0\n",
      "                suffix_2 = u'rd'            male : female =     26.6 : 1.0\n",
      "                suffix_2 = u'ra'          female : male   =     23.3 : 1.0\n",
      "                suffix_2 = u'ld'            male : female =     22.8 : 1.0\n",
      "correct=female   guess=male     name=Brandais                      \n",
      "correct=female   guess=male     name=Caron                         \n",
      "correct=female   guess=male     name=Eden                          \n",
      "correct=female   guess=male     name=Estell                        \n",
      "correct=female   guess=male     name=Eveleen                       \n",
      "correct=female   guess=male     name=Kerstin                       \n",
      "correct=female   guess=male     name=Wilow                         \n",
      "correct=male     guess=female   name=Abe                           \n",
      "correct=male     guess=female   name=Bradly                        \n",
      "correct=male     guess=female   name=Douggie                       \n",
      "correct=male     guess=female   name=Gabe                          \n",
      "correct=male     guess=female   name=Hymie                         \n",
      "correct=male     guess=female   name=Kingsley                      \n",
      "correct=male     guess=female   name=Laurance                      \n",
      "correct=male     guess=female   name=Lemmie                        \n",
      "correct=male     guess=female   name=Morty                         \n",
      "correct=male     guess=female   name=Ruddy                         \n",
      "correct=male     guess=female   name=Simone                        \n",
      "correct=male     guess=female   name=Smitty                        \n",
      "correct=male     guess=female   name=Waverley                      \n"
     ]
    }
   ],
   "source": [
    "my_test_names = ['Neo', 'Trinity']\n",
    "\n",
    "feature_extractor = NameGenderFeatureExtractor()\n",
    "# for name in my_test_names:\n",
    "#     print(feature_extractor.features(name))\n",
    "# exit()\n",
    "\n",
    "data_prep = NameGenderData(feature_extractor)\n",
    "split_sets = data_prep.split_train_devtest_test_set()\n",
    "train_names, train_set = split_sets['train']\n",
    "devtest_names, devtest_set = split_sets['devtest']\n",
    "test_names, test_set = split_sets['test']\n",
    "\n",
    "classifier = nltk.NaiveBayesClassifier.train(train_set)\n",
    "\n",
    "for name in my_test_names:\n",
    "    print('Classification for [{}]: {}'.format(name, classifier.classify(feature_extractor.features(name))))\n",
    "\n",
    "data_prep.evaluate(classifier, devtest_set)\n",
    "data_prep.error_analysis(classifier, devtest_names)\n"
   ]
  },
  {
   "cell_type": "code",
   "execution_count": null,
   "metadata": {},
   "outputs": [],
   "source": []
  },
  {
   "cell_type": "code",
   "execution_count": null,
   "metadata": {},
   "outputs": [],
   "source": []
  }
 ],
 "metadata": {
  "kernelspec": {
   "display_name": "Python 3",
   "language": "python",
   "name": "python3"
  },
  "language_info": {
   "codemirror_mode": {
    "name": "ipython",
    "version": 2
   },
   "file_extension": ".py",
   "mimetype": "text/x-python",
   "name": "python",
   "nbconvert_exporter": "python",
   "pygments_lexer": "ipython2",
   "version": "2.7.15"
  }
 },
 "nbformat": 4,
 "nbformat_minor": 2
}
