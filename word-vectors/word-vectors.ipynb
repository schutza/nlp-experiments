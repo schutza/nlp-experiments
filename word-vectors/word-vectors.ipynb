{
 "cells": [
  {
   "cell_type": "code",
   "execution_count": 2,
   "metadata": {},
   "outputs": [
    {
     "name": "stdout",
     "output_type": "stream",
     "text": [
      "Solving environment: done\n",
      "\n",
      "\n",
      "==> WARNING: A newer version of conda exists. <==\n",
      "  current version: 4.5.11\n",
      "  latest version: 4.6.14\n",
      "\n",
      "Please update conda by running\n",
      "\n",
      "    $ conda update -n base -c defaults conda\n",
      "\n",
      "\n",
      "\n",
      "## Package Plan ##\n",
      "\n",
      "  environment location: /anaconda2\n",
      "\n",
      "  added / updated specs: \n",
      "    - spacy\n",
      "\n",
      "\n",
      "The following packages will be downloaded:\n",
      "\n",
      "    package                    |            build\n",
      "    ---------------------------|-----------------\n",
      "    dill-0.2.9                 |           py27_0         111 KB  conda-forge\n",
      "    murmurhash-1.0.0           |   py27hfc679d8_0          15 KB  conda-forge\n",
      "    liblapack-3.8.0            |       7_openblas           6 KB  conda-forge\n",
      "    certifi-2019.3.9           |           py27_0         149 KB  conda-forge\n",
      "    libcurl-7.62.0             |       h051b688_0         488 KB\n",
      "    pathlib-1.0.1              |             py_1          15 KB  conda-forge\n",
      "    openssl-1.1.1b             |       h01d97ff_2         3.5 MB  conda-forge\n",
      "    ca-certificates-2019.3.9   |       hecc5488_0         146 KB  conda-forge\n",
      "    numpy-1.16.3               |   py27hdf140aa_0         4.1 MB  conda-forge\n",
      "    libssh2-1.8.2              |       hcdc9a53_2         221 KB  conda-forge\n",
      "    preshed-2.0.1              |   py27h0a44026_0          63 KB\n",
      "    conda-4.6.14               |           py27_0         2.1 MB  conda-forge\n",
      "    libcblas-3.8.0             |       7_openblas           6 KB  conda-forge\n",
      "    curl-7.62.0                |       ha441bb4_0         135 KB\n",
      "    plac-0.9.6                 |             py_1          18 KB  conda-forge\n",
      "    openblas-0.3.5             |    h436c29b_1001        17.5 MB  conda-forge\n",
      "    tqdm-4.31.1                |             py_0          40 KB  conda-forge\n",
      "    python-2.7.3               |                5        10.0 MB\n",
      "    msgpack-numpy-0.4.3.2      |             py_0           8 KB  conda-forge\n",
      "    libblas-3.8.0              |       7_openblas           6 KB  conda-forge\n",
      "    readline-6.2               |                2         274 KB\n",
      "    pycurl-7.19.0              |           py27_1         189 KB\n",
      "    ujson-1.35                 |py27h1de35cc_1001          24 KB  conda-forge\n",
      "    thinc-6.12.1               |py27h1702cab_1000         1.4 MB  conda-forge\n",
      "    cymem-2.0.2                |   py27h04f5b5a_0          30 KB\n",
      "    spacy-2.0.18               |py27h0a44026_1000        60.4 MB  conda-forge\n",
      "    cryptography-2.6.1         |   py27h212c5bf_0         568 KB  conda-forge\n",
      "    regex-2018.01.10           |py27h1de35cc_1000         330 KB  conda-forge\n",
      "    ------------------------------------------------------------\n",
      "                                           Total:       101.8 MB\n",
      "\n",
      "The following NEW packages will be INSTALLED:\n",
      "\n",
      "    cymem:           2.0.2-py27h04f5b5a_0                    \n",
      "    dill:            0.2.9-py27_0                 conda-forge\n",
      "    libblas:         3.8.0-7_openblas             conda-forge\n",
      "    libcblas:        3.8.0-7_openblas             conda-forge\n",
      "    liblapack:       3.8.0-7_openblas             conda-forge\n",
      "    msgpack-numpy:   0.4.3.2-py_0                 conda-forge\n",
      "    murmurhash:      1.0.0-py27hfc679d8_0         conda-forge\n",
      "    openblas:        0.3.5-h436c29b_1001          conda-forge\n",
      "    pathlib:         1.0.1-py_1                   conda-forge\n",
      "    plac:            0.9.6-py_1                   conda-forge\n",
      "    preshed:         2.0.1-py27h0a44026_0                    \n",
      "    regex:           2018.01.10-py27h1de35cc_1000 conda-forge\n",
      "    spacy:           2.0.18-py27h0a44026_1000     conda-forge\n",
      "    thinc:           6.12.1-py27h1702cab_1000     conda-forge\n",
      "    tqdm:            4.31.1-py_0                  conda-forge\n",
      "    ujson:           1.35-py27h1de35cc_1001       conda-forge\n",
      "\n",
      "The following packages will be UPDATED:\n",
      "\n",
      "    ca-certificates: 2018.03.07-0                             --> 2019.3.9-hecc5488_0   conda-forge\n",
      "    certifi:         2018.10.15-py27_0                        --> 2019.3.9-py27_0       conda-forge\n",
      "    conda:           4.5.11-py27_0                            --> 4.6.14-py27_0         conda-forge\n",
      "    cryptography:    2.2.2-py27h1de35cc_0                     --> 2.6.1-py27h212c5bf_0  conda-forge\n",
      "    curl:            7.60.0-ha441bb4_0                        --> 7.62.0-ha441bb4_0                \n",
      "    libcurl:         7.60.0-hf30b1f0_0                        --> 7.62.0-h051b688_0                \n",
      "    libssh2:         1.8.0-h322a93b_4                         --> 1.8.2-hcdc9a53_2      conda-forge\n",
      "    numpy:           1.14.3-py27he6379a5_1                    --> 1.16.3-py27hdf140aa_0 conda-forge\n",
      "    openssl:         1.0.2p-h1de35cc_0                        --> 1.1.1b-h01d97ff_2     conda-forge\n",
      "\n",
      "The following packages will be DOWNGRADED:\n",
      "\n",
      "    pycurl:          7.43.0.1-py27hdbc3d79_0                  --> 7.19.0-py27_1                    \n",
      "    python:          2.7.15-h138c1fe_0                        --> 2.7.3-5                          \n",
      "    readline:        7.0-hc1231fa_4                           --> 6.2-2                            \n",
      "\n",
      "\n",
      "Downloading and Extracting Packages\n",
      "dill-0.2.9           | 111 KB    | ##################################### | 100% \n",
      "murmurhash-1.0.0     | 15 KB     | ##################################### | 100% \n",
      "liblapack-3.8.0      | 6 KB      | ##################################### | 100% \n",
      "certifi-2019.3.9     | 149 KB    | ##################################### | 100% \n",
      "libcurl-7.62.0       | 488 KB    | ##################################### | 100% \n",
      "pathlib-1.0.1        | 15 KB     | ##################################### | 100% \n",
      "openssl-1.1.1b       | 3.5 MB    | ##################################### | 100% \n",
      "ca-certificates-2019 | 146 KB    | ##################################### | 100% \n",
      "numpy-1.16.3         | 4.1 MB    | ##################################### | 100% \n",
      "libssh2-1.8.2        | 221 KB    | ##################################### | 100% \n",
      "preshed-2.0.1        | 63 KB     | ##################################### | 100% \n",
      "conda-4.6.14         | 2.1 MB    | ##################################### | 100% \n",
      "libcblas-3.8.0       | 6 KB      | ##################################### | 100% \n",
      "curl-7.62.0          | 135 KB    | ##################################### | 100% \n",
      "plac-0.9.6           | 18 KB     | ##################################### | 100% \n",
      "openblas-0.3.5       | 17.5 MB   | ##################################### | 100% \n",
      "tqdm-4.31.1          | 40 KB     | ##################################### | 100% \n",
      "python-2.7.3         | 10.0 MB   | ##################################### | 100% \n",
      "msgpack-numpy-0.4.3. | 8 KB      | ##################################### | 100% \n",
      "libblas-3.8.0        | 6 KB      | ##################################### | 100% \n",
      "readline-6.2         | 274 KB    | ##################################### | 100% \n",
      "pycurl-7.19.0        | 189 KB    | ##################################### | 100% \n",
      "ujson-1.35           | 24 KB     | ##################################### | 100% \n",
      "thinc-6.12.1         | 1.4 MB    | ##################################### | 100% \n",
      "cymem-2.0.2          | 30 KB     | ##################################### | 100% \n",
      "spacy-2.0.18         | 60.4 MB   | ##################################### | 100% \n",
      "cryptography-2.6.1   | 568 KB    | ##################################### | 100% \n",
      "regex-2018.01.10     | 330 KB    | ##################################### | 100% \n",
      "Preparing transaction: done\n",
      "Verifying transaction: done\n",
      "Executing transaction: done\n"
     ]
    }
   ],
   "source": [
    "import sys\n",
    "!conda install --yes --prefix {sys.prefix} spacy"
   ]
  },
  {
   "cell_type": "code",
   "execution_count": 3,
   "metadata": {},
   "outputs": [],
   "source": [
    "from scipy import spatial\n",
    "import spacy"
   ]
  },
  {
   "cell_type": "code",
   "execution_count": 4,
   "metadata": {},
   "outputs": [],
   "source": [
    "def load_language_resource(descriptor):\n",
    "    print(spacy.info(vector_descriptor))\n",
    "    nlp = spacy.load(vector_descriptor)\n",
    "    return nlp"
   ]
  },
  {
   "cell_type": "code",
   "execution_count": 5,
   "metadata": {},
   "outputs": [],
   "source": [
    "def word_vector_math(nlp, source, remove_word, add_word):\n",
    "    man = nlp.vocab[source].vector\n",
    "    woman = nlp.vocab[remove_word].vector\n",
    "    queen = nlp.vocab[add_word].vector\n",
    "    king = nlp.vocab['king'].vector\n",
    "    \n",
    "    # We now need to find the closest vector in the vocabulary to the result of \"queen\" - \"woman\" + \"man\" \n",
    "    maybe_king = queen - woman + man\n",
    "    return maybe_king"
   ]
  },
  {
   "cell_type": "code",
   "execution_count": 6,
   "metadata": {},
   "outputs": [],
   "source": [
    "def compute_word_vector_similarities(nlp, target_word):\n",
    "    cosine_similarity = lambda x, y: 1 - spatial.distance.cosine(x, y)\n",
    "    \n",
    "    computed_similarities = []\n",
    "    \n",
    "    for word in nlp.vocab:\n",
    "        # Ignore words without vectors\n",
    "        if not word.has_vector:\n",
    "            continue\n",
    "    \n",
    "        similarity = cosine_similarity(target_word, word.vector)\n",
    "        computed_similarities.append((word, similarity))\n",
    "    \n",
    "    computed_similarities = sorted(computed_similarities, key=lambda item: -item[1])\n",
    "    return computed_similarities"
   ]
  },
  {
   "cell_type": "code",
   "execution_count": 7,
   "metadata": {},
   "outputs": [
    {
     "name": "stdout",
     "output_type": "stream",
     "text": [
      "\n",
      "\u001b[93m    Can't find model meta.json\u001b[0m\n",
      "    /anaconda2/lib/python2.7/site-packages/spacy/data/en_core_web_md/meta.json\n",
      "\n"
     ]
    },
    {
     "ename": "SystemExit",
     "evalue": "1",
     "output_type": "error",
     "traceback": [
      "An exception has occurred, use %tb to see the full traceback.\n",
      "\u001b[0;31mSystemExit\u001b[0m\u001b[0;31m:\u001b[0m 1\n"
     ]
    },
    {
     "name": "stderr",
     "output_type": "stream",
     "text": [
      "/anaconda2/lib/python2.7/site-packages/IPython/core/interactiveshell.py:2886: UserWarning: To exit: use 'exit', 'quit', or Ctrl-D.\n",
      "  warn(\"To exit: use 'exit', 'quit', or Ctrl-D.\", stacklevel=1)\n"
     ]
    }
   ],
   "source": [
    "vector_descriptor = 'en_core_web_md'\n",
    "nlp = load_language_resource(vector_descriptor)\n",
    "maybe_king = word_vector_math(nlp, 'queen', 'woman', 'man')\n",
    "computed_similarities = compute_word_vector_similarities(nlp, maybe_king)    \n",
    "print([w[0].text for w in computed_similarities[:10]])\n",
    "# ['Queen', 'QUEEN', 'queen', 'King', 'KING', 'king', 'KIng', 'KINGS', 'kings', 'Kings']"
   ]
  },
  {
   "cell_type": "code",
   "execution_count": null,
   "metadata": {},
   "outputs": [],
   "source": []
  }
 ],
 "metadata": {
  "kernelspec": {
   "display_name": "Python 3",
   "language": "python",
   "name": "python3"
  },
  "language_info": {
   "codemirror_mode": {
    "name": "ipython",
    "version": 2
   },
   "file_extension": ".py",
   "mimetype": "text/x-python",
   "name": "python",
   "nbconvert_exporter": "python",
   "pygments_lexer": "ipython2",
   "version": "2.7.15"
  }
 },
 "nbformat": 4,
 "nbformat_minor": 2
}
